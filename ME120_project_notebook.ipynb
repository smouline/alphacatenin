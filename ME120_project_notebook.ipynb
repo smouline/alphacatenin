{
 "cells": [
  {
   "cell_type": "markdown",
   "id": "0a9c357f-e3b9-46df-92cc-e6fdd0b6d4a6",
   "metadata": {},
   "source": [
    "# Molecular Dynamics: vinculin--alpha-catenin\n",
    "### University of California, Berkeley - Spring 2024"
   ]
  },
  {
   "cell_type": "markdown",
   "id": "fe26ca3e-91ec-4720-bbad-82bb8847b9b2",
   "metadata": {},
   "source": [
    "---\n",
    "## Molecular dynamics of proteins <a id='l_md'></a>"
   ]
  },
  {
   "cell_type": "markdown",
   "id": "0deda886-2eb2-46e2-8818-82d565b6b9c2",
   "metadata": {},
   "source": [
    "[**Molecular dynamics (MD)**](https://en.wikipedia.org/wiki/Molecular_dynamics) is a computer simulation method for studying the physical movements of atoms and molecules, i.e. their dynamical evolution. \n",
    "\n",
    "In the most common version, the trajectories of atoms and molecules are determined by numerically solving Newton's equations of motion for a system of interacting particles, where forces between the particles and their potential energies are often calculated using  molecular mechanics force fields. \n",
    "\n",
    "\n",
    "\n",
    "Now with all that intellectual equipment, we can start running legit Molecular Dynamics simulations. All we need is an initial structure of the protein and software that computes its dynamics efficiently."
   ]
  },
  {
   "cell_type": "markdown",
   "id": "60acfed2-c55c-47bf-9ddf-8a10202ab16f",
   "metadata": {},
   "source": [
    "### Procedure\n",
    "\n",
    "1. Load initial coordinates of protein atoms (from *.pdb file)\n",
    "2. Choose force field parameters (in potential function V from section 5).\n",
    "3. Choose parameters of the experiment: temperature, pressure, box size, solvation, boundary conditions\n",
    "4. Choose integrator, i.e. algorithm for solving equation of motion\n",
    "5. Run simulation, save coordinates time to time (to *.dcd file).\n",
    "6. Visualize the trajectory\n",
    "7. Perform the analysis"
   ]
  },
  {
   "cell_type": "markdown",
   "id": "534ef0ae-9d2e-4875-9fba-36e0edb61571",
   "metadata": {},
   "source": [
    "__Packages__\n",
    "\n",
    "* __NGLViewer__: NGL Viewer is a collection of tools for web-based molecular graphics. WebGL is employed to display molecules like proteins and DNA/RNA with a variety of representations.\n",
    "\n",
    "* __MDAnalysis__: MDAnalysis is an object-oriented Python library to analyze trajectories from molecular dynamics (MD) simulations in many popular formats. It can write most of these formats, too, together with atom selections suitable for visualization or native analysis tools.\n",
    "\n",
    "* __Openmm__: Openmm consists of two parts: One is a set of libraries that lets programmers easily add molecular simulation features to their programs and the other parts is an “application layer” that exposes those features to end users who just want to run simulations"
   ]
  },
  {
   "cell_type": "markdown",
   "id": "f1da24b9",
   "metadata": {},
   "source": [
    "---\n",
    "### Example: MD simulation of 4EHP "
   ]
  },
  {
   "cell_type": "code",
   "execution_count": null,
   "id": "bb0e9826",
   "metadata": {},
   "outputs": [],
   "source": [
    "from openmm.app import *\n",
    "from openmm import *\n",
    "from openmm.unit import *\n",
    "import MDAnalysis as mda\n",
    "import nglview as nv\n",
    "from sys import stdout\n",
    "import pathlib"
   ]
  },
  {
   "cell_type": "code",
   "execution_count": null,
   "id": "3fd709e0",
   "metadata": {},
   "outputs": [],
   "source": [
    "# Load PDB file\n",
    "input = pathlib.Path(\n",
    "    # Uses a local file\n",
    "     \"data/4ehp.pdb\"\n",
    "    # \"data/alpha_catenin.pdb\"\n",
    "    # \"data/vinculin.pdb\"\n",
    "    \n",
    "\n",
    ")\n",
    "protein = input.name.split(\".\")[0]\n",
    "\n",
    "pdb = PDBFile(str(input))\n",
    "\n",
    "import MDAnalysis as mda\n",
    "from MDAnalysis.topology import guessers\n",
    "\n",
    "# Load your PDB file\n",
    "u = mda.Universe('results/4ehp_300K_traj.pdb')\n",
    "\n",
    "# Guess the elements\n",
    "u.atoms.elements = guessers.guess_types(u.atoms.names)\n"
   ]
  },
  {
   "cell_type": "code",
   "execution_count": null,
   "id": "c233536f",
   "metadata": {},
   "outputs": [],
   "source": [
    "# Create system\n",
    "forcefield = ForceField(\n",
    "    # 'amber99sb.xml',\n",
    "    # 'tip3p.xml',\n",
    "\n",
    "    # 'amber10.xml',\n",
    "\n",
    "    'amber14-all.xml',\n",
    "    'amber14/tip3pfb.xml'\n",
    "    # HINT: Use the amber14 force fields for villin\n",
    ")\n",
    "# Extra steps to clean up the system:\n",
    "modeller = Modeller(pdb.topology, pdb.positions)\n",
    "modeller.deleteWater()\n",
    "residues = modeller.addHydrogens(forcefield)\n",
    "modeller.addSolvent(forcefield, padding=1.0*nanometer)\n",
    "\n",
    "system = forcefield.createSystem(\n",
    "    pdb.topology,\n",
    "    nonbondedMethod=NoCutoff,\n",
    "    constraints=HBonds\n",
    ")\n",
    "\n",
    "# Set parameters for the experiment\n",
    "temperature = 300*kelvin\n",
    "friction = 1/picosecond\n",
    "timestep = 0.002*picoseconds\n",
    "total_steps = 400*picoseconds/timestep\n",
    "traj_record_freq = 1000  # Save trajectory every 1000 steps, decrease to show more detail in simualtion\n",
    "\n",
    "# Set up integrator\n",
    "integrator = LangevinIntegrator(\n",
    "    temperature,\n",
    "    friction,\n",
    "    timestep\n",
    ")\n",
    "\n",
    "# Set up simulation\n",
    "simulation = Simulation(pdb.topology, system, integrator)\n",
    "simulation.context.setPositions(pdb.positions)\n",
    "\n",
    "# Minimize energy\n",
    "simulation.minimizeEnergy()\n",
    "print(f\"Running dynamics for {total_steps} steps on {protein}, saving trajectory every {traj_record_freq} steps...\")\n",
    "# Add reporter to save trajectory\n",
    "simulation.reporters.append(PDBReporter(f\"results/{protein}_{str(temperature)[:3]}K_traj.pdb\", traj_record_freq))\n",
    "# Print progress to standard output\n",
    "simulation.reporters.append(StateDataReporter(\n",
    "    stdout,\n",
    "    total_steps//10,\n",
    "    step=True,\n",
    "    potentialEnergy=True,\n",
    "    temperature=True,\n",
    "    progress=True,\n",
    "    totalSteps = total_steps\n",
    "))\n",
    "\n",
    "# Run simulation\n",
    "simulation.step(total_steps)\n",
    "\n",
    "traj = pathlib.Path(f\"results/{protein}_{str(temperature)[:3]}K_traj.pdb\")\n",
    "print(f\"Simulation Complete.\\nTrajectory saved to {traj}\")\n",
    "# Load trajectory using MDAnalysis\n",
    "u = mda.Universe(input, traj)"
   ]
  },
  {
   "cell_type": "code",
   "execution_count": null,
   "id": "83a3fcc3",
   "metadata": {},
   "outputs": [],
   "source": [
    "# Visualize trajectory using nglview\n",
    "view = nv.show_mdanalysis(u, show_gui=True)\n",
    "view"
   ]
  }
 ],
 "metadata": {
  "kernelspec": {
   "display_name": "md",
   "language": "python",
   "name": "python3"
  },
  "language_info": {
   "codemirror_mode": {
    "name": "ipython",
    "version": 3
   },
   "file_extension": ".py",
   "mimetype": "text/x-python",
   "name": "python",
   "nbconvert_exporter": "python",
   "pygments_lexer": "ipython3",
   "version": "3.8.18"
  }
 },
 "nbformat": 4,
 "nbformat_minor": 5
}
